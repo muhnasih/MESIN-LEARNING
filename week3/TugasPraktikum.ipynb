{
  "nbformat": 4,
  "nbformat_minor": 0,
  "metadata": {
    "colab": {
      "provenance": []
    },
    "kernelspec": {
      "name": "python3",
      "display_name": "Python 3"
    },
    "language_info": {
      "name": "python"
    }
  },
  "cells": [
    {
      "cell_type": "markdown",
      "source": [
        "Deskripsi Tugas\n",
        "Pada tugas pratikum ini Anda akan menggunakan data \"Wisconsin Breast Cancer\". Data tersebut terdiri dari 569 data yang digunakan untuk mendiagnonis jenis kanker Malignant (M) dan Benign (B). Tugas Anda adalah,\n",
        "\n",
        "1. Pisahkan antara variabel yang dapat digunakan dan variabel yang tidak dapat digunakan.\n",
        "\n",
        "2. Lakukan proses encoding pada kolom \"diagnosis\".\n",
        "\n",
        "3. Lakukan proses standarisasi pada semua kolom yang memiliki nilai numerik.\n",
        "\n",
        "4. Lakukan proses stratified split data untuk membuat data latih dan data uji dengan rasio 80:20."
      ],
      "metadata": {
        "id": "IttE9LAxW-EK"
      }
    },
    {
      "cell_type": "code",
      "execution_count": 2,
      "metadata": {
        "colab": {
          "base_uri": "https://localhost:8080/"
        },
        "id": "QUJB8dpvW8zd",
        "outputId": "dce3653c-a29a-42cc-8929-95e148e4c857"
      },
      "outputs": [
        {
          "output_type": "stream",
          "name": "stdout",
          "text": [
            "   mean radius  mean texture  mean perimeter  mean area  mean smoothness  \\\n",
            "0        17.99         10.38          122.80     1001.0          0.11840   \n",
            "1        20.57         17.77          132.90     1326.0          0.08474   \n",
            "2        19.69         21.25          130.00     1203.0          0.10960   \n",
            "3        11.42         20.38           77.58      386.1          0.14250   \n",
            "4        20.29         14.34          135.10     1297.0          0.10030   \n",
            "\n",
            "   mean compactness  mean concavity  mean concave points  mean symmetry  \\\n",
            "0           0.27760          0.3001              0.14710         0.2419   \n",
            "1           0.07864          0.0869              0.07017         0.1812   \n",
            "2           0.15990          0.1974              0.12790         0.2069   \n",
            "3           0.28390          0.2414              0.10520         0.2597   \n",
            "4           0.13280          0.1980              0.10430         0.1809   \n",
            "\n",
            "   mean fractal dimension  ...  worst texture  worst perimeter  worst area  \\\n",
            "0                 0.07871  ...          17.33           184.60      2019.0   \n",
            "1                 0.05667  ...          23.41           158.80      1956.0   \n",
            "2                 0.05999  ...          25.53           152.50      1709.0   \n",
            "3                 0.09744  ...          26.50            98.87       567.7   \n",
            "4                 0.05883  ...          16.67           152.20      1575.0   \n",
            "\n",
            "   worst smoothness  worst compactness  worst concavity  worst concave points  \\\n",
            "0            0.1622             0.6656           0.7119                0.2654   \n",
            "1            0.1238             0.1866           0.2416                0.1860   \n",
            "2            0.1444             0.4245           0.4504                0.2430   \n",
            "3            0.2098             0.8663           0.6869                0.2575   \n",
            "4            0.1374             0.2050           0.4000                0.1625   \n",
            "\n",
            "   worst symmetry  worst fractal dimension  diagnosis  \n",
            "0          0.4601                  0.11890          0  \n",
            "1          0.2750                  0.08902          0  \n",
            "2          0.3613                  0.08758          0  \n",
            "3          0.6638                  0.17300          0  \n",
            "4          0.2364                  0.07678          0  \n",
            "\n",
            "[5 rows x 31 columns]\n"
          ]
        }
      ],
      "source": [
        "from sklearn.datasets import load_breast_cancer\n",
        "import pandas as pd\n",
        "\n",
        "# load dataset\n",
        "data = load_breast_cancer()\n",
        "\n",
        "# buat dataframe\n",
        "df = pd.DataFrame(data.data, columns=data.feature_names)\n",
        "df[\"diagnosis\"] = data.target\n",
        "\n",
        "print(df.head())\n"
      ]
    },
    {
      "cell_type": "code",
      "source": [
        "X = df.drop(columns=[\"diagnosis\"])\n",
        "y = df[\"diagnosis\"]\n"
      ],
      "metadata": {
        "id": "y9bKhg_DYVIw"
      },
      "execution_count": 6,
      "outputs": []
    },
    {
      "cell_type": "code",
      "source": [
        "from sklearn.preprocessing import StandardScaler\n",
        "\n",
        "scaler = StandardScaler()\n",
        "X_scaled = scaler.fit_transform(X)\n"
      ],
      "metadata": {
        "id": "qBlixxirYZVP"
      },
      "execution_count": 5,
      "outputs": []
    },
    {
      "cell_type": "code",
      "source": [
        "from sklearn.model_selection import train_test_split\n",
        "\n",
        "X_train, X_test, y_train, y_test = train_test_split(\n",
        "    X_scaled, y, test_size=0.2, random_state=42, stratify=y\n",
        ")\n",
        "\n",
        "print(\"Jumlah data latih:\", X_train.shape[0])\n",
        "print(\"Jumlah data uji:\", X_test.shape[0])\n",
        "print(\"Proporsi kelas di data latih:\")\n",
        "print(y_train.value_counts(normalize=True))\n",
        "print(\"Proporsi kelas di data uji:\")\n",
        "print(y_test.value_counts(normalize=True))\n"
      ],
      "metadata": {
        "colab": {
          "base_uri": "https://localhost:8080/"
        },
        "id": "n-19GtodYuB3",
        "outputId": "639c0876-c2f1-4154-8803-8175dc5cca19"
      },
      "execution_count": 7,
      "outputs": [
        {
          "output_type": "stream",
          "name": "stdout",
          "text": [
            "Jumlah data latih: 455\n",
            "Jumlah data uji: 114\n",
            "Proporsi kelas di data latih:\n",
            "diagnosis\n",
            "1    0.626374\n",
            "0    0.373626\n",
            "Name: proportion, dtype: float64\n",
            "Proporsi kelas di data uji:\n",
            "diagnosis\n",
            "1    0.631579\n",
            "0    0.368421\n",
            "Name: proportion, dtype: float64\n"
          ]
        }
      ]
    }
  ]
}